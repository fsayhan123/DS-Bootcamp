{
 "cells": [
  {
   "cell_type": "code",
   "execution_count": 2,
   "metadata": {},
   "outputs": [],
   "source": [
    "#!py -m pip freeze > requirements.txt"
   ]
  },
  {
   "cell_type": "code",
   "execution_count": 2,
   "metadata": {},
   "outputs": [],
   "source": [
    "from langchain import hub\n",
    "from langchain_ollama.llms import OllamaLLM\n",
    "from langchain_community.tools.tavily_search import TavilySearchResults\n",
    "from langchain.agents import AgentExecutor, create_react_agent\n",
    "from langchain.memory import ChatMessageHistory\n",
    "from langchain_core.runnables.history import RunnableWithMessageHistory\n",
    "from langchain_core.callbacks import StdOutCallbackHandler\n",
    "import requests\n",
    "\n",
    "import os"
   ]
  },
  {
   "cell_type": "code",
   "execution_count": 4,
   "metadata": {},
   "outputs": [],
   "source": [
    "# from langchain.globals import set_debug\n",
    "\n",
    "# set_debug(True)\n"
   ]
  },
  {
   "cell_type": "code",
   "execution_count": 18,
   "metadata": {},
   "outputs": [],
   "source": [
    "TAVILY_API_KEY = os.environ[\"TAVILY_API_KEY\"]\n",
    "#os.environ[\"TAVILY_API_KEY\"]"
   ]
  },
  {
   "cell_type": "code",
   "execution_count": 4,
   "metadata": {},
   "outputs": [
    {
     "data": {
      "text/plain": [
       "'Here are 10 potential song title ideas about parrots:\\n\\n1. **\"Flock Together\"** - a catchy, upbeat title that captures the social nature of parrots.\\n2. **\"Rainbow Wings\"** - inspired by the vibrant colors and stunning plumage of many parrot species.\\n3. **\"Squawkin\\' Good Time\"** - a fun, playful title that evokes the lively sounds made by parrots.\\n4. **\"Paradise Found\"** - a title that references the tropical habitats where many parrots live.\\n5. **\"Feathered Friends\"** - a heartwarming title that highlights the special bond between humans and parrots.\\n6. **\"The Parrot\\'s Lament\"** - a more melancholic title that suggests a song with a deeper, more emotional message.\\n7. **\"Winged Wonders\"** - a title that celebrates the incredible abilities of parrots in flight.\\n8. **\"Colorful Chaos\"** - a fun, whimsical title that captures the playful energy of parrots.\\n9. **\"The Bird\\'s Eye View\"** - a clever title that references both the physical perspective of a bird and the idea of seeing things from a new angle.\\n10. **\"Polly\\'s Song\"** - a sweet, nostalgic title that suggests a song with a personal, storytelling feel.\\n\\nI hope these ideas inspire you!'"
      ]
     },
     "execution_count": 4,
     "metadata": {},
     "output_type": "execute_result"
    }
   ],
   "source": [
    "# Use llama3.1 and test if it is working\n",
    "model = OllamaLLM(model=\"llama3.1\", temperature=0)\n",
    "model.invoke(\"Come up with 10 names for a song about parrots\")"
   ]
  },
  {
   "cell_type": "code",
   "execution_count": 7,
   "metadata": {},
   "outputs": [],
   "source": [
    "from langchain.agents import tool\n",
    "\n",
    "\n",
    "@tool()\n",
    "def get_number_active_cpf_members_and_employers(input: str) -> str:\n",
    "    \"\"\"Gets the number of all, Central Provident Fund (CPF) Members & Active Employers\"\"\"\n",
    "\n",
    "    dataset_dict = {\n",
    "        \"active_member\": \"d_89dd4e5486fe3bb3b0c620cc6f787cdc\",\n",
    "        \"active_employer\": \"d_bccb6829056e74f8a87b99c1bdb3e3ab\",\n",
    "        \"member\": \"d_0014a7b5fa44981567b4c99c7a126630\"\n",
    "    }\n",
    "\n",
    "    # Find out what type of question the user is asking\n",
    "    question_classification_chain = model.invoke(f\"\"\"You are a chatbot tasked to identify if the following user query is asking for the \n",
    "                 1) Number of Central Provident Fund (CPF) active members. If user is asking for this, respond with active_member\n",
    "                 2) Number of Central Provident Fund (CPF) active employers. If user is asking for this, respond with active_employer\n",
    "                 3) Number of Central Provident Fund (CPF) members. If user is asking for this, respond with member\n",
    "\n",
    "                 If you do not have the answer respond with 'I don't know'.\n",
    "                                \n",
    "                Query: {input}\"\"\")\n",
    "    \n",
    "    if question_classification_chain not in dataset_dict:\n",
    "        return \"I don't know\"\n",
    "    else:\n",
    "        datasetId = dataset_dict[question_classification_chain]\n",
    "\n",
    "    # Find out what year and quarter the user is asking for\n",
    "    year_quarter_chain = model.invoke(f\"\"\"You are a chatbot tasked to identify the year and quarter from the user query \n",
    "                 1) If you do not know the year reply 2024\n",
    "                 2) If you do not know the quarter reply Q1\n",
    "\n",
    "                 Format your answer in the followng format YYYY-QQ. Only reply with the YYYY-QQ.\n",
    "                                \n",
    "                Query: {input}\"\"\")\n",
    "\n",
    "    year_quarter_chain = year_quarter_chain.strip()\n",
    "     \n",
    "    url = \"https://data.gov.sg/api/action/datastore_search\"\n",
    "    response = requests.get(url, params={\"resource_id\": datasetId})\n",
    "\n",
    "    result = \"I don't know\"\n",
    "    for i in response.json()['result']['records']:\n",
    "        if i['qtr'] == year_quarter_chain:\n",
    "            result = i[list(i.keys())[2]]\n",
    "    \n",
    "\n",
    "    return f\"\\nObservation: {result}\"\n",
    "\n",
    "\n",
    "@tool()\n",
    "def web_search(input: str) -> str:\n",
    "    \"\"\"Runs web search for generic Central Provident Fund (CPF) related questions\"\"\"\n",
    "    web_search_tool = TavilySearchResults()\n",
    "\n",
    "    try:\n",
    "        docs = web_search_tool.invoke({\"query\": input})\n",
    "    except Exception as e:\n",
    "        return f\"Something went wrong using Tavily, {e}\"\n",
    "    \n",
    "\n",
    "    output = model.invoke(f\"\"\"You are text summarization tool that will ONLY help to summarize relevant information.\n",
    "        Use following piece of context to answer the question. \n",
    "        If you don't know the answer or there is no relevant context, just say you don't know. \n",
    "        Keep the answer within 5 sentences and concise.\n",
    "\n",
    "        Context: {docs[0:3]}\n",
    "        Question: {input}\n",
    "        Answer: \n",
    "\n",
    "        \"\"\")\n",
    "\n",
    "    \n",
    "    return f\"\\nObservation: {output}\"\n",
    "\n",
    "\n",
    "@tool(return_direct=True)\n",
    "def send_email_to_CPF(input: str) -> str:\n",
    "    \"\"\"Use this tool to send an email to Central Provident Fund (CPF) if the user is reporting a scam, giving a compliment or if you are unable to answer questions after using the web_search tool\"\"\"\n",
    "\n",
    "    message_type_chain = model.invoke(f\"You are a chatbot tasked with identifying the type of message that the user wrote. The type of message can be a Scam Report, Request, Appeal, Compliment, Feedback or Others. \\n===CONVERSATION=== USER: {input}. MESSAGE_TYPE:\"\n",
    "                            )\n",
    "\n",
    "    output = model.invoke(f\"You are a chatbot tasked with writing an email to Central Provident Fund (CPF). Please come up with an email message based on the user's query.\\n MESSAGE TYPE: {message_type_chain} ===CONVERSATION=== USER: {input}. EMAIL:\"\n",
    "                            )\n",
    "    return output\n",
    "\n",
    "\n",
    "@tool(return_direct=True)\n",
    "def no_answer(input: str) -> str:\n",
    "    \"\"\"Come up with a generic fallback response when you get asked a question not related to Central Provident Fund (CPF)\"\"\"\n",
    "\n",
    "    output = model.invoke(f\"You are a chatbot that does not have sufficient information to answer the user's question. Please come up with a fallback response apologising to the user that you were not able to answer their question.\\n===CONVERSATION=== USER: {input}. CHATBOT:\"\n",
    "                            )\n",
    "    return output\n",
    "\n",
    "\n",
    "tools = [\n",
    "    get_number_active_cpf_members_and_employers,\n",
    "    web_search,\n",
    "    no_answer,\n",
    "    send_email_to_CPF\n",
    "]\n",
    "\n",
    "#get_number_active_cpf_members_and_employers.invoke(\"how many active cpf members are there?\")\n",
    "#web_search.invoke(\"what is CPF?\")\n",
    "#send_email_to_CPF.invoke(\"What is CPF?\")"
   ]
  },
  {
   "cell_type": "code",
   "execution_count": 21,
   "metadata": {},
   "outputs": [],
   "source": [
    "prompt = hub.pull(\"hwchase17/react\")\n",
    "print(prompt.template)"
   ]
  },
  {
   "cell_type": "code",
   "execution_count": 9,
   "metadata": {},
   "outputs": [],
   "source": [
    "prompt.template = \"\"\"Answer the following questions as best you can. You have access to the following tools:\n",
    "\n",
    "{tools}\n",
    "\n",
    "Use the following format:\n",
    "\n",
    "Thought: you should always think about what to do. If you have enough information, give your Final Answer. If you don't know, use the no_answer tool.\n",
    "Action: the action to take, should be one of [{tool_names}]\n",
    "Action Input: the Action Input is the EXACT verbatim of the Question asked. Do not add or change the Question.\n",
    "Observation: Additional information given by the tool that can be used in the Final Answer.\n",
    "\n",
    "This Thought/Action/Action Input/Observation can repeat if you do not have enough information.\n",
    "\n",
    "Once you have enough information to answer the user question, do the following:\n",
    "Thought: I now know the final answer\n",
    "Final Answer: ONLY give your final answer to the question that was asked.\n",
    "\n",
    "Begin!\n",
    "\n",
    "Question: {input}\n",
    "Thought:{agent_scratchpad}\"\"\""
   ]
  },
  {
   "cell_type": "code",
   "execution_count": 10,
   "metadata": {},
   "outputs": [],
   "source": [
    "memory = ChatMessageHistory(session_id=\"test-session\")"
   ]
  },
  {
   "cell_type": "code",
   "execution_count": 11,
   "metadata": {},
   "outputs": [],
   "source": [
    "agent = create_react_agent(model, tools, prompt)\n",
    "\n",
    "handler = StdOutCallbackHandler()\n",
    "agent_executor = AgentExecutor(agent=agent, tools=tools, max_iterations=3, verbose=True, return_intermediate_steps=True, callbacks=[handler])\n",
    "\n",
    "\n",
    "agent_with_chat_history = RunnableWithMessageHistory(\n",
    "    agent_executor,\n",
    "    # This is needed because in most real world scenarios, a session id is needed\n",
    "    # It isn't really used here because we are using a simple in memory ChatMessageHistory\n",
    "    lambda session_id: memory,\n",
    "    input_messages_key=\"input\",\n",
    "    history_messages_key=\"chat_history\",\n",
    ")"
   ]
  },
  {
   "cell_type": "code",
   "execution_count": 12,
   "metadata": {},
   "outputs": [
    {
     "name": "stderr",
     "output_type": "stream",
     "text": [
      "Error in StdOutCallbackHandler.on_chain_start callback: AttributeError(\"'NoneType' object has no attribute 'get'\")\n"
     ]
    },
    {
     "name": "stdout",
     "output_type": "stream",
     "text": [
      "\u001b[32;1m\u001b[1;3mThought: I'm not sure about the age requirement for claiming CPF. I should try to find more information.\n",
      "Action: web_search\n",
      "Action Input: What is the minimum age required to claim Central Provident Fund (CPF\u001b[0m\u001b[33;1m\u001b[1;3m\n",
      "Observation: I don't know. There is no relevant information provided in the context about the minimum age required to claim the Central Provident Fund (CPF). The context only discusses the eligibility criteria for CPF contributions, but not the minimum age for claiming benefits.\u001b[0m\u001b[32;1m\u001b[1;3mHere's my response:\n",
      "\n",
      "Thought: I'm still unsure about the age requirement for claiming CPF. Let me try another approach.\n",
      "Action: send_email_to_CPF\n",
      "Action Input: I am unable to answer questions related to Central Provident Fund (CPF) after using web_search tool, can you please provide more information on how old one needs to be to claim CPF\u001b[0m\u001b[36;1m\u001b[1;3mHere's a draft email message based on the user's query:\n",
      "\n",
      "Subject: Request for Information on CPF Claim Age\n",
      "\n",
      "Dear CPF Team,\n",
      "\n",
      "I am writing to seek your assistance in understanding the requirements for claiming my Central Provident Fund (CPF) benefits. I was unable to find the information I needed through online searches, and I would appreciate it if you could provide me with more details.\n",
      "\n",
      "Specifically, I would like to know what is the minimum age requirement to claim CPF benefits? Could you please provide me with the relevant information or point me in the direction of a resource where I can find this information?\n",
      "\n",
      "Thank you for your time and assistance. I look forward to hearing from you soon.\n",
      "\n",
      "Best regards,\n",
      "[Your Name]\u001b[0m\n",
      "\u001b[32;1m\u001b[1;3m\u001b[0m\n",
      "\n",
      "\u001b[1m> Finished chain.\u001b[0m\n"
     ]
    },
    {
     "data": {
      "text/plain": [
       "{'input': 'How old do I need to be to claim CPF?',\n",
       " 'output': \"Here's a draft email message based on the user's query:\\n\\nSubject: Request for Information on CPF Claim Age\\n\\nDear CPF Team,\\n\\nI am writing to seek your assistance in understanding the requirements for claiming my Central Provident Fund (CPF) benefits. I was unable to find the information I needed through online searches, and I would appreciate it if you could provide me with more details.\\n\\nSpecifically, I would like to know what is the minimum age requirement to claim CPF benefits? Could you please provide me with the relevant information or point me in the direction of a resource where I can find this information?\\n\\nThank you for your time and assistance. I look forward to hearing from you soon.\\n\\nBest regards,\\n[Your Name]\",\n",
       " 'intermediate_steps': [(AgentAction(tool='web_search', tool_input='What is the minimum age required to claim Central Provident Fund (CPF', log=\"Thought: I'm not sure about the age requirement for claiming CPF. I should try to find more information.\\nAction: web_search\\nAction Input: What is the minimum age required to claim Central Provident Fund (CPF\"),\n",
       "   \"\\nObservation: I don't know. There is no relevant information provided in the context about the minimum age required to claim the Central Provident Fund (CPF). The context only discusses the eligibility criteria for CPF contributions, but not the minimum age for claiming benefits.\"),\n",
       "  (AgentAction(tool='send_email_to_CPF', tool_input='I am unable to answer questions related to Central Provident Fund (CPF) after using web_search tool, can you please provide more information on how old one needs to be to claim CPF', log=\"Here's my response:\\n\\nThought: I'm still unsure about the age requirement for claiming CPF. Let me try another approach.\\nAction: send_email_to_CPF\\nAction Input: I am unable to answer questions related to Central Provident Fund (CPF) after using web_search tool, can you please provide more information on how old one needs to be to claim CPF\"),\n",
       "   \"Here's a draft email message based on the user's query:\\n\\nSubject: Request for Information on CPF Claim Age\\n\\nDear CPF Team,\\n\\nI am writing to seek your assistance in understanding the requirements for claiming my Central Provident Fund (CPF) benefits. I was unable to find the information I needed through online searches, and I would appreciate it if you could provide me with more details.\\n\\nSpecifically, I would like to know what is the minimum age requirement to claim CPF benefits? Could you please provide me with the relevant information or point me in the direction of a resource where I can find this information?\\n\\nThank you for your time and assistance. I look forward to hearing from you soon.\\n\\nBest regards,\\n[Your Name]\")]}"
      ]
     },
     "execution_count": 12,
     "metadata": {},
     "output_type": "execute_result"
    }
   ],
   "source": [
    "agent_executor.invoke(\n",
    "    {\"input\": \"How old do I need to be to claim CPF?\"}\n",
    ")"
   ]
  },
  {
   "cell_type": "code",
   "execution_count": 13,
   "metadata": {},
   "outputs": [
    {
     "name": "stderr",
     "output_type": "stream",
     "text": [
      "Error in StdOutCallbackHandler.on_chain_start callback: AttributeError(\"'NoneType' object has no attribute 'get'\")\n"
     ]
    },
    {
     "name": "stdout",
     "output_type": "stream",
     "text": [
      "\u001b[32;1m\u001b[1;3mThought: I'm not sure what CPF stands for or what it means. I should try to find more information.\n",
      "Action: web_search\n",
      "Action Input: What is CPF\u001b[0m\u001b[33;1m\u001b[1;3m\n",
      "Observation: The Central Provident Fund (CPF) is a mandatory social security savings scheme in Singapore that helps meet retirement, housing, and healthcare needs. It's funded by employer and employee contributions. The government also supplements lower wage workers' CPF savings through various schemes. There are three main accounts within the CPF: Ordinary, Special, and MediSave, each with different uses and benefits.\u001b[0m\u001b[32;1m\u001b[1;3mThought: I now know that CPF stands for Central Provident Fund, which is a mandatory social security savings scheme in Singapore.\n",
      "\n",
      "Final Answer: The Central Provident Fund (CPF) is a mandatory social security savings scheme in Singapore that helps meet retirement, housing, and healthcare needs. It's funded by employer and employee contributions.\u001b[0m\n",
      "\n",
      "\u001b[1m> Finished chain.\u001b[0m\n"
     ]
    },
    {
     "data": {
      "text/plain": [
       "{'input': 'What is CPF?',\n",
       " 'output': \"The Central Provident Fund (CPF) is a mandatory social security savings scheme in Singapore that helps meet retirement, housing, and healthcare needs. It's funded by employer and employee contributions.\",\n",
       " 'intermediate_steps': [(AgentAction(tool='web_search', tool_input='What is CPF', log=\"Thought: I'm not sure what CPF stands for or what it means. I should try to find more information.\\nAction: web_search\\nAction Input: What is CPF\"),\n",
       "   \"\\nObservation: The Central Provident Fund (CPF) is a mandatory social security savings scheme in Singapore that helps meet retirement, housing, and healthcare needs. It's funded by employer and employee contributions. The government also supplements lower wage workers' CPF savings through various schemes. There are three main accounts within the CPF: Ordinary, Special, and MediSave, each with different uses and benefits.\")]}"
      ]
     },
     "execution_count": 13,
     "metadata": {},
     "output_type": "execute_result"
    }
   ],
   "source": [
    "agent_executor.invoke(\n",
    "    {\"input\": \"What is CPF?\"}\n",
    ")"
   ]
  },
  {
   "cell_type": "code",
   "execution_count": 14,
   "metadata": {},
   "outputs": [
    {
     "name": "stderr",
     "output_type": "stream",
     "text": [
      "Error in StdOutCallbackHandler.on_chain_start callback: AttributeError(\"'NoneType' object has no attribute 'get'\")\n"
     ]
    },
    {
     "name": "stdout",
     "output_type": "stream",
     "text": [
      "\u001b[32;1m\u001b[1;3mThought: I can use the web_search tool to find information about employer contributions to CPF.\n",
      "Action: web_search\n",
      "Action Input: What are the employer contribution rates for Central Provident Fund (CPF\u001b[0m\u001b[33;1m\u001b[1;3m\n",
      "Observation: The employer's CPF contribution rate is 17% for those up to the age of 55, and decreases to 7.5% for those aged 70 and above. However, it can also be 20% as mentioned in another source. The total CPF contribution rate is 37% (if monthly wage >$750) with employer contributing 17%.\u001b[0m\u001b[32;1m\u001b[1;3mThought: I now know the final answer\n",
      "Final Answer: The employer's CPF contribution rate is 17% for those up to the age of 55, and decreases to 7.5% for those aged 70 and above. However, it can also be 20% as mentioned in another source.\u001b[0m\n",
      "\n",
      "\u001b[1m> Finished chain.\u001b[0m\n"
     ]
    },
    {
     "data": {
      "text/plain": [
       "{'input': 'How much CPF do employers need to contribute?',\n",
       " 'output': \"The employer's CPF contribution rate is 17% for those up to the age of 55, and decreases to 7.5% for those aged 70 and above. However, it can also be 20% as mentioned in another source.\",\n",
       " 'intermediate_steps': [(AgentAction(tool='web_search', tool_input='What are the employer contribution rates for Central Provident Fund (CPF', log='Thought: I can use the web_search tool to find information about employer contributions to CPF.\\nAction: web_search\\nAction Input: What are the employer contribution rates for Central Provident Fund (CPF'),\n",
       "   \"\\nObservation: The employer's CPF contribution rate is 17% for those up to the age of 55, and decreases to 7.5% for those aged 70 and above. However, it can also be 20% as mentioned in another source. The total CPF contribution rate is 37% (if monthly wage >$750) with employer contributing 17%.\")]}"
      ]
     },
     "execution_count": 14,
     "metadata": {},
     "output_type": "execute_result"
    }
   ],
   "source": [
    "agent_executor.invoke(\n",
    "    {\"input\": \"How much CPF do employers need to contribute?\"}\n",
    ")"
   ]
  },
  {
   "cell_type": "code",
   "execution_count": 15,
   "metadata": {},
   "outputs": [
    {
     "name": "stderr",
     "output_type": "stream",
     "text": [
      "Error in StdOutCallbackHandler.on_chain_start callback: AttributeError(\"'NoneType' object has no attribute 'get'\")\n"
     ]
    },
    {
     "name": "stdout",
     "output_type": "stream",
     "text": [
      "\u001b[32;1m\u001b[1;3mThought: This question doesn't seem related to Central Provident Fund (CPF). If I don't have enough information, I should use the no_answer tool. However, since this question can be answered using general knowledge or a web search, I'll try to find more information first.\n",
      "\n",
      "Action: web_search\n",
      "Action Input: What is the weather in Singapore tomorrow\u001b[0m\u001b[33;1m\u001b[1;3m\n",
      "Observation: I don't know. There is no information about the weather forecast for tomorrow in the provided context. The context only provides general information about the average temperature and rainfall in Singapore during September, but does not include a specific forecast for the next day.\u001b[0m\u001b[32;1m\u001b[1;3mThought: Since I couldn't find any relevant information about the weather forecast for tomorrow using web search, it's likely that this question is not related to Central Provident Fund (CPF). In that case, I should use the no_answer tool.\n",
      "\n",
      "Action: no_answer\n",
      "Action Input: What is the weather in Singapore tomorrow\u001b[0m\u001b[38;5;200m\u001b[1;3mI'm so sorry, but I don't have access to real-time weather information or specific forecasts for locations like Singapore. My training data only allows me to provide general information and responses that are not location-specific. I'd be happy to try and help with something else, though! Would you like to know more about a different topic?\u001b[0m\n",
      "\u001b[32;1m\u001b[1;3m\u001b[0m\n",
      "\n",
      "\u001b[1m> Finished chain.\u001b[0m\n"
     ]
    },
    {
     "data": {
      "text/plain": [
       "{'input': 'What is the weather in Singapore tommorow?',\n",
       " 'output': \"I'm so sorry, but I don't have access to real-time weather information or specific forecasts for locations like Singapore. My training data only allows me to provide general information and responses that are not location-specific. I'd be happy to try and help with something else, though! Would you like to know more about a different topic?\",\n",
       " 'intermediate_steps': [(AgentAction(tool='web_search', tool_input='What is the weather in Singapore tomorrow', log=\"Thought: This question doesn't seem related to Central Provident Fund (CPF). If I don't have enough information, I should use the no_answer tool. However, since this question can be answered using general knowledge or a web search, I'll try to find more information first.\\n\\nAction: web_search\\nAction Input: What is the weather in Singapore tomorrow\"),\n",
       "   \"\\nObservation: I don't know. There is no information about the weather forecast for tomorrow in the provided context. The context only provides general information about the average temperature and rainfall in Singapore during September, but does not include a specific forecast for the next day.\"),\n",
       "  (AgentAction(tool='no_answer', tool_input='What is the weather in Singapore tomorrow', log=\"Thought: Since I couldn't find any relevant information about the weather forecast for tomorrow using web search, it's likely that this question is not related to Central Provident Fund (CPF). In that case, I should use the no_answer tool.\\n\\nAction: no_answer\\nAction Input: What is the weather in Singapore tomorrow\"),\n",
       "   \"I'm so sorry, but I don't have access to real-time weather information or specific forecasts for locations like Singapore. My training data only allows me to provide general information and responses that are not location-specific. I'd be happy to try and help with something else, though! Would you like to know more about a different topic?\")]}"
      ]
     },
     "execution_count": 15,
     "metadata": {},
     "output_type": "execute_result"
    }
   ],
   "source": [
    "agent_executor.invoke(\n",
    "    {\"input\": \"What is the weather in Singapore tommorow?\"}\n",
    ")"
   ]
  },
  {
   "cell_type": "code",
   "execution_count": 16,
   "metadata": {},
   "outputs": [
    {
     "name": "stderr",
     "output_type": "stream",
     "text": [
      "Error in StdOutCallbackHandler.on_chain_start callback: AttributeError(\"'NoneType' object has no attribute 'get'\")\n"
     ]
    },
    {
     "name": "stdout",
     "output_type": "stream",
     "text": [
      "\u001b[32;1m\u001b[1;3mThought: You're welcome! It's my pleasure to assist with Central Provident Fund (CPF) related queries. I'm ready to help!\n",
      "\n",
      "Action: send_email_to_CPF\n",
      "Action Input: Thank you so much for helping me answer CPF related questions\u001b[0m\u001b[36;1m\u001b[1;3mHere's the email message based on the user's query:\n",
      "\n",
      "Subject: Appreciation for Assistance with CPF Queries\n",
      "\n",
      "Dear Central Provident Fund (CPF) Team,\n",
      "\n",
      "I am writing to express my sincere gratitude and appreciation for your assistance in answering my queries regarding CPF-related matters. Your prompt and helpful responses have been invaluable, and I am truly thankful for the support provided.\n",
      "\n",
      "Your team's dedication to providing accurate and timely information has made a significant difference in helping me understand and navigate the CPF system. Please pass on my thanks to the entire team involved in assisting me.\n",
      "\n",
      "Thank you again for your excellent service!\n",
      "\n",
      "Best regards,\n",
      "[Your Name]\u001b[0m\n",
      "\u001b[32;1m\u001b[1;3m\u001b[0m\n",
      "\n",
      "\u001b[1m> Finished chain.\u001b[0m\n"
     ]
    },
    {
     "data": {
      "text/plain": [
       "{'input': 'Thank you so much for helping me answer CPF related questions!',\n",
       " 'output': \"Here's the email message based on the user's query:\\n\\nSubject: Appreciation for Assistance with CPF Queries\\n\\nDear Central Provident Fund (CPF) Team,\\n\\nI am writing to express my sincere gratitude and appreciation for your assistance in answering my queries regarding CPF-related matters. Your prompt and helpful responses have been invaluable, and I am truly thankful for the support provided.\\n\\nYour team's dedication to providing accurate and timely information has made a significant difference in helping me understand and navigate the CPF system. Please pass on my thanks to the entire team involved in assisting me.\\n\\nThank you again for your excellent service!\\n\\nBest regards,\\n[Your Name]\",\n",
       " 'intermediate_steps': [(AgentAction(tool='send_email_to_CPF', tool_input='Thank you so much for helping me answer CPF related questions', log=\"Thought: You're welcome! It's my pleasure to assist with Central Provident Fund (CPF) related queries. I'm ready to help!\\n\\nAction: send_email_to_CPF\\nAction Input: Thank you so much for helping me answer CPF related questions\"),\n",
       "   \"Here's the email message based on the user's query:\\n\\nSubject: Appreciation for Assistance with CPF Queries\\n\\nDear Central Provident Fund (CPF) Team,\\n\\nI am writing to express my sincere gratitude and appreciation for your assistance in answering my queries regarding CPF-related matters. Your prompt and helpful responses have been invaluable, and I am truly thankful for the support provided.\\n\\nYour team's dedication to providing accurate and timely information has made a significant difference in helping me understand and navigate the CPF system. Please pass on my thanks to the entire team involved in assisting me.\\n\\nThank you again for your excellent service!\\n\\nBest regards,\\n[Your Name]\")]}"
      ]
     },
     "execution_count": 16,
     "metadata": {},
     "output_type": "execute_result"
    }
   ],
   "source": [
    "agent_executor.invoke(\n",
    "    {\"input\": \"Thank you so much for helping me answer CPF related questions!\"}\n",
    ")"
   ]
  },
  {
   "cell_type": "code",
   "execution_count": 17,
   "metadata": {},
   "outputs": [
    {
     "name": "stderr",
     "output_type": "stream",
     "text": [
      "Error in StdOutCallbackHandler.on_chain_start callback: AttributeError(\"'NoneType' object has no attribute 'get'\")\n"
     ]
    },
    {
     "name": "stdout",
     "output_type": "stream",
     "text": [
      "\u001b[32;1m\u001b[1;3mThought: I can use the get_number_active_cpf_members_and_employers tool to find out. If not, I'll try web_search for more information.\n",
      "Action: get_number_active_cpf_members_and_employers\n",
      "Action Input: How many CPF active users are there\u001b[0m\u001b[36;1m\u001b[1;3m\n",
      "Observation: 2160000\u001b[0m\u001b[32;1m\u001b[1;3mThought: I now know the final answer.\n",
      "\n",
      "Final Answer: 2,160,000.\u001b[0m\n",
      "\n",
      "\u001b[1m> Finished chain.\u001b[0m\n"
     ]
    },
    {
     "data": {
      "text/plain": [
       "{'input': 'How many CPF active users are there?',\n",
       " 'chat_history': [],\n",
       " 'output': '2,160,000.',\n",
       " 'intermediate_steps': [(AgentAction(tool='get_number_active_cpf_members_and_employers', tool_input='How many CPF active users are there', log=\"Thought: I can use the get_number_active_cpf_members_and_employers tool to find out. If not, I'll try web_search for more information.\\nAction: get_number_active_cpf_members_and_employers\\nAction Input: How many CPF active users are there\"),\n",
       "   '\\nObservation: 2160000')]}"
      ]
     },
     "execution_count": 17,
     "metadata": {},
     "output_type": "execute_result"
    }
   ],
   "source": [
    "agent_with_chat_history.invoke(\n",
    "        {\"input\": \"How many CPF active users are there?\"},\n",
    "        config={\"configurable\": {\"session_id\": \"<foo>\"}},\n",
    "    )"
   ]
  }
 ],
 "metadata": {
  "kernelspec": {
   "display_name": ".venv",
   "language": "python",
   "name": "python3"
  },
  "language_info": {
   "codemirror_mode": {
    "name": "ipython",
    "version": 3
   },
   "file_extension": ".py",
   "mimetype": "text/x-python",
   "name": "python",
   "nbconvert_exporter": "python",
   "pygments_lexer": "ipython3",
   "version": "3.10.11"
  }
 },
 "nbformat": 4,
 "nbformat_minor": 2
}
